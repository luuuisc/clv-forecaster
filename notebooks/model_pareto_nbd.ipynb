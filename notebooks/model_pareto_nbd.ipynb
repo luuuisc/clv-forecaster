{
 "cells": [
  {
   "cell_type": "markdown",
   "id": "0a37f2dd",
   "metadata": {},
   "source": [
    "# Model Pareto NBD \n",
    "\n",
    "## Explicación detallada \n",
    "\n",
    "Instalar previamente desde el notebook\n",
    "```bash \n",
    "!pip install lifetimes==0.11.3 mlflow==3.1.1\n",
    "```\n"
   ]
  },
  {
   "cell_type": "code",
   "execution_count": 3,
   "id": "2cb3649c",
   "metadata": {},
   "outputs": [],
   "source": [
    "from pathlib import Path\n",
    "import pandas as pd\n",
    "import numpy as np\n",
    "import mlflow\n",
    "from lifetimes import BetaGeoFitter, GammaGammaFitter"
   ]
  },
  {
   "cell_type": "markdown",
   "id": "93c0ee5f",
   "metadata": {},
   "source": [
    "### Carga del Parquet Limpio "
   ]
  },
  {
   "cell_type": "code",
   "execution_count": 4,
   "id": "7d415777",
   "metadata": {},
   "outputs": [
    {
     "name": "stdout",
     "output_type": "stream",
     "text": [
      "(805549, 9)\n"
     ]
    },
    {
     "data": {
      "text/html": [
       "<div>\n",
       "<style scoped>\n",
       "    .dataframe tbody tr th:only-of-type {\n",
       "        vertical-align: middle;\n",
       "    }\n",
       "\n",
       "    .dataframe tbody tr th {\n",
       "        vertical-align: top;\n",
       "    }\n",
       "\n",
       "    .dataframe thead th {\n",
       "        text-align: right;\n",
       "    }\n",
       "</style>\n",
       "<table border=\"1\" class=\"dataframe\">\n",
       "  <thead>\n",
       "    <tr style=\"text-align: right;\">\n",
       "      <th></th>\n",
       "      <th>Invoice</th>\n",
       "      <th>InvoiceDate</th>\n",
       "      <th>Customer ID</th>\n",
       "      <th>Country</th>\n",
       "      <th>StockCode</th>\n",
       "      <th>Description</th>\n",
       "      <th>Quantity</th>\n",
       "      <th>Price</th>\n",
       "      <th>Sales</th>\n",
       "    </tr>\n",
       "  </thead>\n",
       "  <tbody>\n",
       "    <tr>\n",
       "      <th>0</th>\n",
       "      <td>489434</td>\n",
       "      <td>2009-12-01 07:45:00</td>\n",
       "      <td>13085</td>\n",
       "      <td>United Kingdom</td>\n",
       "      <td>85048</td>\n",
       "      <td>15CM CHRISTMAS GLASS BALL 20 LIGHTS</td>\n",
       "      <td>12</td>\n",
       "      <td>6.95</td>\n",
       "      <td>83.4</td>\n",
       "    </tr>\n",
       "    <tr>\n",
       "      <th>1</th>\n",
       "      <td>489434</td>\n",
       "      <td>2009-12-01 07:45:00</td>\n",
       "      <td>13085</td>\n",
       "      <td>United Kingdom</td>\n",
       "      <td>79323P</td>\n",
       "      <td>PINK CHERRY LIGHTS</td>\n",
       "      <td>12</td>\n",
       "      <td>6.75</td>\n",
       "      <td>81.0</td>\n",
       "    </tr>\n",
       "    <tr>\n",
       "      <th>2</th>\n",
       "      <td>489434</td>\n",
       "      <td>2009-12-01 07:45:00</td>\n",
       "      <td>13085</td>\n",
       "      <td>United Kingdom</td>\n",
       "      <td>79323W</td>\n",
       "      <td>WHITE CHERRY LIGHTS</td>\n",
       "      <td>12</td>\n",
       "      <td>6.75</td>\n",
       "      <td>81.0</td>\n",
       "    </tr>\n",
       "    <tr>\n",
       "      <th>3</th>\n",
       "      <td>489434</td>\n",
       "      <td>2009-12-01 07:45:00</td>\n",
       "      <td>13085</td>\n",
       "      <td>United Kingdom</td>\n",
       "      <td>22041</td>\n",
       "      <td>RECORD FRAME 7\" SINGLE SIZE</td>\n",
       "      <td>48</td>\n",
       "      <td>2.10</td>\n",
       "      <td>100.8</td>\n",
       "    </tr>\n",
       "    <tr>\n",
       "      <th>4</th>\n",
       "      <td>489434</td>\n",
       "      <td>2009-12-01 07:45:00</td>\n",
       "      <td>13085</td>\n",
       "      <td>United Kingdom</td>\n",
       "      <td>21232</td>\n",
       "      <td>STRAWBERRY CERAMIC TRINKET BOX</td>\n",
       "      <td>24</td>\n",
       "      <td>1.25</td>\n",
       "      <td>30.0</td>\n",
       "    </tr>\n",
       "  </tbody>\n",
       "</table>\n",
       "</div>"
      ],
      "text/plain": [
       "  Invoice         InvoiceDate  Customer ID         Country StockCode  \\\n",
       "0  489434 2009-12-01 07:45:00        13085  United Kingdom     85048   \n",
       "1  489434 2009-12-01 07:45:00        13085  United Kingdom    79323P   \n",
       "2  489434 2009-12-01 07:45:00        13085  United Kingdom    79323W   \n",
       "3  489434 2009-12-01 07:45:00        13085  United Kingdom     22041   \n",
       "4  489434 2009-12-01 07:45:00        13085  United Kingdom     21232   \n",
       "\n",
       "                           Description  Quantity  Price  Sales  \n",
       "0  15CM CHRISTMAS GLASS BALL 20 LIGHTS        12   6.95   83.4  \n",
       "1                   PINK CHERRY LIGHTS        12   6.75   81.0  \n",
       "2                  WHITE CHERRY LIGHTS        12   6.75   81.0  \n",
       "3         RECORD FRAME 7\" SINGLE SIZE         48   2.10  100.8  \n",
       "4       STRAWBERRY CERAMIC TRINKET BOX        24   1.25   30.0  "
      ]
     },
     "execution_count": 4,
     "metadata": {},
     "output_type": "execute_result"
    }
   ],
   "source": [
    "DATA_FILE = Path(\"../data/processed/clv.parquet\")\n",
    "df = pd.read_parquet(DATA_FILE)\n",
    "\n",
    "print(df.shape)\n",
    "df.head()"
   ]
  },
  {
   "cell_type": "markdown",
   "id": "1ddf04ce",
   "metadata": {},
   "source": [
    "### Cálculo de variables RFM "
   ]
  },
  {
   "cell_type": "code",
   "execution_count": 5,
   "id": "300077fc",
   "metadata": {},
   "outputs": [
    {
     "data": {
      "text/html": [
       "<div>\n",
       "<style scoped>\n",
       "    .dataframe tbody tr th:only-of-type {\n",
       "        vertical-align: middle;\n",
       "    }\n",
       "\n",
       "    .dataframe tbody tr th {\n",
       "        vertical-align: top;\n",
       "    }\n",
       "\n",
       "    .dataframe thead th {\n",
       "        text-align: right;\n",
       "    }\n",
       "</style>\n",
       "<table border=\"1\" class=\"dataframe\">\n",
       "  <thead>\n",
       "    <tr style=\"text-align: right;\">\n",
       "      <th></th>\n",
       "      <th>frequency</th>\n",
       "      <th>recency</th>\n",
       "      <th>T</th>\n",
       "      <th>monetary</th>\n",
       "    </tr>\n",
       "    <tr>\n",
       "      <th>Customer ID</th>\n",
       "      <th></th>\n",
       "      <th></th>\n",
       "      <th></th>\n",
       "      <th></th>\n",
       "    </tr>\n",
       "  </thead>\n",
       "  <tbody>\n",
       "    <tr>\n",
       "      <th>12346</th>\n",
       "      <td>12</td>\n",
       "      <td>400</td>\n",
       "      <td>726</td>\n",
       "      <td>2281.072353</td>\n",
       "    </tr>\n",
       "    <tr>\n",
       "      <th>12347</th>\n",
       "      <td>8</td>\n",
       "      <td>402</td>\n",
       "      <td>404</td>\n",
       "      <td>22.266087</td>\n",
       "    </tr>\n",
       "    <tr>\n",
       "      <th>12348</th>\n",
       "      <td>5</td>\n",
       "      <td>362</td>\n",
       "      <td>438</td>\n",
       "      <td>39.596078</td>\n",
       "    </tr>\n",
       "    <tr>\n",
       "      <th>12349</th>\n",
       "      <td>4</td>\n",
       "      <td>570</td>\n",
       "      <td>589</td>\n",
       "      <td>25.306800</td>\n",
       "    </tr>\n",
       "    <tr>\n",
       "      <th>12350</th>\n",
       "      <td>1</td>\n",
       "      <td>0</td>\n",
       "      <td>310</td>\n",
       "      <td>19.670588</td>\n",
       "    </tr>\n",
       "  </tbody>\n",
       "</table>\n",
       "</div>"
      ],
      "text/plain": [
       "             frequency  recency    T     monetary\n",
       "Customer ID                                      \n",
       "12346               12      400  726  2281.072353\n",
       "12347                8      402  404    22.266087\n",
       "12348                5      362  438    39.596078\n",
       "12349                4      570  589    25.306800\n",
       "12350                1        0  310    19.670588"
      ]
     },
     "execution_count": 5,
     "metadata": {},
     "output_type": "execute_result"
    }
   ],
   "source": [
    "# 1. Calculamos fecha de referencia (cierre del dataset)\n",
    "analysis_date = df[\"InvoiceDate\"].max() + pd.Timedelta(days=1)\n",
    "\n",
    "# 2. Agregamos por cliente\n",
    "rfm = (\n",
    "    df.groupby(\"Customer ID\")\n",
    "      .agg(\n",
    "          frequency   = (\"Invoice\", \"nunique\"),\n",
    "          recency     = (\"InvoiceDate\", lambda x: (x.max() - x.min()).days),\n",
    "          T           = (\"InvoiceDate\", lambda x: (analysis_date - x.min()).days),\n",
    "          monetary    = (\"Sales\", \"mean\"),   # avg sales per transacción\n",
    "      )\n",
    "      .astype({\"frequency\":\"int32\", \"recency\":\"int32\", \"T\":\"int32\"})\n",
    ")\n",
    "\n",
    "rfm.head()"
   ]
  },
  {
   "cell_type": "markdown",
   "id": "e2a09491",
   "metadata": {},
   "source": [
    "### Entrenar BetaGeoFitter"
   ]
  },
  {
   "cell_type": "code",
   "execution_count": 6,
   "id": "22bdb07e",
   "metadata": {},
   "outputs": [
    {
     "data": {
      "text/plain": [
       "<lifetimes.BetaGeoFitter: fitted with 5878 subjects, a: 0.22, alpha: 37.25, b: 0.65, r: 1.30>"
      ]
     },
     "execution_count": 6,
     "metadata": {},
     "output_type": "execute_result"
    }
   ],
   "source": [
    "bgf = BetaGeoFitter(penalizer_coef=0.001)\n",
    "bgf.fit(rfm[\"frequency\"], rfm[\"recency\"], rfm[\"T\"])"
   ]
  },
  {
   "cell_type": "markdown",
   "id": "f983118c",
   "metadata": {},
   "source": [
    "### Pronóstico de transacciones a 6 meses"
   ]
  },
  {
   "cell_type": "code",
   "execution_count": 7,
   "id": "dd5142cf",
   "metadata": {},
   "outputs": [
    {
     "data": {
      "text/html": [
       "<div>\n",
       "<style scoped>\n",
       "    .dataframe tbody tr th:only-of-type {\n",
       "        vertical-align: middle;\n",
       "    }\n",
       "\n",
       "    .dataframe tbody tr th {\n",
       "        vertical-align: top;\n",
       "    }\n",
       "\n",
       "    .dataframe thead th {\n",
       "        text-align: right;\n",
       "    }\n",
       "</style>\n",
       "<table border=\"1\" class=\"dataframe\">\n",
       "  <thead>\n",
       "    <tr style=\"text-align: right;\">\n",
       "      <th></th>\n",
       "      <th>frequency</th>\n",
       "      <th>recency</th>\n",
       "      <th>T</th>\n",
       "      <th>monetary</th>\n",
       "      <th>pred_purchases_6m</th>\n",
       "    </tr>\n",
       "    <tr>\n",
       "      <th>Customer ID</th>\n",
       "      <th></th>\n",
       "      <th></th>\n",
       "      <th></th>\n",
       "      <th></th>\n",
       "      <th></th>\n",
       "    </tr>\n",
       "  </thead>\n",
       "  <tbody>\n",
       "    <tr>\n",
       "      <th>12346</th>\n",
       "      <td>12</td>\n",
       "      <td>400</td>\n",
       "      <td>726</td>\n",
       "      <td>2281.072353</td>\n",
       "      <td>0.094033</td>\n",
       "    </tr>\n",
       "    <tr>\n",
       "      <th>12347</th>\n",
       "      <td>8</td>\n",
       "      <td>402</td>\n",
       "      <td>404</td>\n",
       "      <td>22.266087</td>\n",
       "      <td>3.519997</td>\n",
       "    </tr>\n",
       "    <tr>\n",
       "      <th>12348</th>\n",
       "      <td>5</td>\n",
       "      <td>362</td>\n",
       "      <td>438</td>\n",
       "      <td>39.596078</td>\n",
       "      <td>1.996069</td>\n",
       "    </tr>\n",
       "    <tr>\n",
       "      <th>12349</th>\n",
       "      <td>4</td>\n",
       "      <td>570</td>\n",
       "      <td>589</td>\n",
       "      <td>25.306800</td>\n",
       "      <td>1.371208</td>\n",
       "    </tr>\n",
       "    <tr>\n",
       "      <th>12350</th>\n",
       "      <td>1</td>\n",
       "      <td>0</td>\n",
       "      <td>310</td>\n",
       "      <td>19.670588</td>\n",
       "      <td>0.018451</td>\n",
       "    </tr>\n",
       "  </tbody>\n",
       "</table>\n",
       "</div>"
      ],
      "text/plain": [
       "             frequency  recency    T     monetary  pred_purchases_6m\n",
       "Customer ID                                                         \n",
       "12346               12      400  726  2281.072353           0.094033\n",
       "12347                8      402  404    22.266087           3.519997\n",
       "12348                5      362  438    39.596078           1.996069\n",
       "12349                4      570  589    25.306800           1.371208\n",
       "12350                1        0  310    19.670588           0.018451"
      ]
     },
     "execution_count": 7,
     "metadata": {},
     "output_type": "execute_result"
    }
   ],
   "source": [
    "rfm[\"pred_purchases_6m\"] = bgf.conditional_expected_number_of_purchases_up_to_time(\n",
    "    180, rfm[\"frequency\"], rfm[\"recency\"], rfm[\"T\"]\n",
    ")\n",
    "\n",
    "rfm.head()"
   ]
  },
  {
   "cell_type": "markdown",
   "id": "77543436",
   "metadata": {},
   "source": [
    "### Valor Monetario con GammaGamma"
   ]
  },
  {
   "cell_type": "code",
   "execution_count": 8,
   "id": "85a6f9be",
   "metadata": {},
   "outputs": [
    {
     "data": {
      "text/html": [
       "<div>\n",
       "<style scoped>\n",
       "    .dataframe tbody tr th:only-of-type {\n",
       "        vertical-align: middle;\n",
       "    }\n",
       "\n",
       "    .dataframe tbody tr th {\n",
       "        vertical-align: top;\n",
       "    }\n",
       "\n",
       "    .dataframe thead th {\n",
       "        text-align: right;\n",
       "    }\n",
       "</style>\n",
       "<table border=\"1\" class=\"dataframe\">\n",
       "  <thead>\n",
       "    <tr style=\"text-align: right;\">\n",
       "      <th></th>\n",
       "      <th>frequency</th>\n",
       "      <th>recency</th>\n",
       "      <th>T</th>\n",
       "      <th>monetary</th>\n",
       "      <th>pred_purchases_6m</th>\n",
       "      <th>exp_avg_sales</th>\n",
       "      <th>clv_6m</th>\n",
       "    </tr>\n",
       "    <tr>\n",
       "      <th>Customer ID</th>\n",
       "      <th></th>\n",
       "      <th></th>\n",
       "      <th></th>\n",
       "      <th></th>\n",
       "      <th></th>\n",
       "      <th></th>\n",
       "      <th></th>\n",
       "    </tr>\n",
       "  </thead>\n",
       "  <tbody>\n",
       "    <tr>\n",
       "      <th>12346</th>\n",
       "      <td>12</td>\n",
       "      <td>400</td>\n",
       "      <td>726</td>\n",
       "      <td>2281.072353</td>\n",
       "      <td>0.094033</td>\n",
       "      <td>2253.590452</td>\n",
       "      <td>211.912989</td>\n",
       "    </tr>\n",
       "    <tr>\n",
       "      <th>12347</th>\n",
       "      <td>8</td>\n",
       "      <td>402</td>\n",
       "      <td>404</td>\n",
       "      <td>22.266087</td>\n",
       "      <td>3.519997</td>\n",
       "      <td>22.433763</td>\n",
       "      <td>78.966770</td>\n",
       "    </tr>\n",
       "    <tr>\n",
       "      <th>12348</th>\n",
       "      <td>5</td>\n",
       "      <td>362</td>\n",
       "      <td>438</td>\n",
       "      <td>39.596078</td>\n",
       "      <td>1.996069</td>\n",
       "      <td>39.361902</td>\n",
       "      <td>78.569084</td>\n",
       "    </tr>\n",
       "    <tr>\n",
       "      <th>12349</th>\n",
       "      <td>4</td>\n",
       "      <td>570</td>\n",
       "      <td>589</td>\n",
       "      <td>25.306800</td>\n",
       "      <td>1.371208</td>\n",
       "      <td>25.527372</td>\n",
       "      <td>35.003350</td>\n",
       "    </tr>\n",
       "    <tr>\n",
       "      <th>12350</th>\n",
       "      <td>1</td>\n",
       "      <td>0</td>\n",
       "      <td>310</td>\n",
       "      <td>19.670588</td>\n",
       "      <td>0.018451</td>\n",
       "      <td>21.195733</td>\n",
       "      <td>0.391081</td>\n",
       "    </tr>\n",
       "  </tbody>\n",
       "</table>\n",
       "</div>"
      ],
      "text/plain": [
       "             frequency  recency    T     monetary  pred_purchases_6m  \\\n",
       "Customer ID                                                            \n",
       "12346               12      400  726  2281.072353           0.094033   \n",
       "12347                8      402  404    22.266087           3.519997   \n",
       "12348                5      362  438    39.596078           1.996069   \n",
       "12349                4      570  589    25.306800           1.371208   \n",
       "12350                1        0  310    19.670588           0.018451   \n",
       "\n",
       "             exp_avg_sales      clv_6m  \n",
       "Customer ID                             \n",
       "12346          2253.590452  211.912989  \n",
       "12347            22.433763   78.966770  \n",
       "12348            39.361902   78.569084  \n",
       "12349            25.527372   35.003350  \n",
       "12350            21.195733    0.391081  "
      ]
     },
     "execution_count": 8,
     "metadata": {},
     "output_type": "execute_result"
    }
   ],
   "source": [
    "ggf = GammaGammaFitter(penalizer_coef=0.001)\n",
    "ggf.fit(rfm[\"frequency\"], rfm[\"monetary\"])\n",
    "\n",
    "rfm[\"exp_avg_sales\"] = ggf.conditional_expected_average_profit(\n",
    "    rfm[\"frequency\"], rfm[\"monetary\"]\n",
    ")\n",
    "\n",
    "# CLV a 6 m = ventas esperadas × ticket esperado\n",
    "rfm[\"clv_6m\"] = rfm[\"pred_purchases_6m\"] * rfm[\"exp_avg_sales\"]\n",
    "rfm.head()"
   ]
  },
  {
   "cell_type": "markdown",
   "id": "52dabf5e",
   "metadata": {},
   "source": [
    "### Registrar en MLflow"
   ]
  },
  {
   "cell_type": "code",
   "execution_count": 9,
   "id": "35eb03cf",
   "metadata": {},
   "outputs": [
    {
     "name": "stderr",
     "output_type": "stream",
     "text": [
      "2025/07/20 10:32:25 INFO mlflow.tracking.fluent: Experiment with name 'clv_pareto_nbd' does not exist. Creating a new experiment.\n",
      "2025/07/20 10:32:25 WARNING mlflow.models.model: `artifact_path` is deprecated. Please use `name` instead.\n",
      "\u001b[31m2025/07/20 10:32:28 WARNING mlflow.models.model: Model logged without a signature and input example. Please set `input_example` parameter when logging the model to auto infer the model signature.\u001b[0m\n",
      "2025/07/20 10:32:28 WARNING mlflow.models.model: `artifact_path` is deprecated. Please use `name` instead.\n",
      "2025/07/20 10:32:29 WARNING mlflow.sklearn: Model was missing function: predict. Not logging python_function flavor!\n",
      "\u001b[31m2025/07/20 10:32:30 WARNING mlflow.models.model: Model logged without a signature and input example. Please set `input_example` parameter when logging the model to auto infer the model signature.\u001b[0m\n"
     ]
    }
   ],
   "source": [
    "mlflow.set_experiment(\"clv_pareto_nbd\")\n",
    "\n",
    "with mlflow.start_run(run_name=\"pareto_nbd_6m\"):\n",
    "    mlflow.log_param(\"time_horizon_days\", 180)\n",
    "    mlflow.log_param(\"penalizer\", 0.001)\n",
    "    mlflow.sklearn.log_model(bgf, artifact_path=\"bgf_model\")\n",
    "    mlflow.sklearn.log_model(ggf, artifact_path=\"ggf_model\")\n",
    "    mlflow.log_metric(\"rmse_pred_6m\", np.sqrt(((rfm[\"pred_purchases_6m\"] - rfm[\"frequency\"])**2).mean()))\n",
    "    mlflow.log_artifact(DATA_FILE, artifact_path=\"data_version\")"
   ]
  },
  {
   "cell_type": "code",
   "execution_count": 14,
   "id": "ddbef655",
   "metadata": {},
   "outputs": [
    {
     "name": "stdout",
     "output_type": "stream",
     "text": [
      "[2025-07-20 10:44:29 -0600] [67416] [INFO] Starting gunicorn 23.0.0\n",
      "[2025-07-20 10:44:29 -0600] [67416] [INFO] Listening at: http://127.0.0.1:5000 (67416)\n",
      "[2025-07-20 10:44:29 -0600] [67416] [INFO] Using worker: sync\n",
      "[2025-07-20 10:44:29 -0600] [67417] [INFO] Booting worker with pid: 67417\n",
      "[2025-07-20 10:44:30 -0600] [67418] [INFO] Booting worker with pid: 67418\n",
      "[2025-07-20 10:44:30 -0600] [67419] [INFO] Booting worker with pid: 67419\n",
      "[2025-07-20 10:44:30 -0600] [67420] [INFO] Booting worker with pid: 67420\n",
      "^C\n",
      "\n",
      "Aborted!\n",
      "[2025-07-20 10:44:54 -0600] [67419] [INFO] Worker exiting (pid: 67419)\n",
      "[2025-07-20 10:44:54 -0600] [67420] [INFO] Worker exiting (pid: 67420)\n",
      "[2025-07-20 10:44:54 -0600] [67417] [INFO] Worker exiting (pid: 67417)\n",
      "[2025-07-20 10:44:54 -0600] [67418] [INFO] Worker exiting (pid: 67418)\n"
     ]
    }
   ],
   "source": [
    "!mlflow ui"
   ]
  },
  {
   "cell_type": "markdown",
   "id": "fa24175d",
   "metadata": {},
   "source": [
    "### Guardar tabla CLV "
   ]
  },
  {
   "cell_type": "code",
   "execution_count": 12,
   "id": "d658db9c",
   "metadata": {},
   "outputs": [
    {
     "name": "stdout",
     "output_type": "stream",
     "text": [
      "CLV table saved → ../data/processed/clv_predictions.parquet\n"
     ]
    }
   ],
   "source": [
    "OUTPUT = Path(\"../data/processed/clv_predictions.parquet\")\n",
    "rfm.reset_index().to_parquet(OUTPUT, index=False)\n",
    "print(\"CLV table saved →\", OUTPUT)"
   ]
  },
  {
   "cell_type": "markdown",
   "id": "7cad3425",
   "metadata": {},
   "source": [
    "#### Source run ID \n",
    "\n",
    "03d67cdd60c64c709ca01225464b82e5"
   ]
  }
 ],
 "metadata": {
  "kernelspec": {
   "display_name": "base",
   "language": "python",
   "name": "python3"
  },
  "language_info": {
   "codemirror_mode": {
    "name": "ipython",
    "version": 3
   },
   "file_extension": ".py",
   "mimetype": "text/x-python",
   "name": "python",
   "nbconvert_exporter": "python",
   "pygments_lexer": "ipython3",
   "version": "3.11.8"
  }
 },
 "nbformat": 4,
 "nbformat_minor": 5
}
