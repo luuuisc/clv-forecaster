{
 "cells": [
  {
   "cell_type": "markdown",
   "id": "a8a9b71d",
   "metadata": {},
   "source": [
    "# Notebook \n",
    "\n",
    "## Guía paso a paso del ETL (`etl_clv.ipynb`)\n",
    "\n",
    "| # | Celda | ¿Qué hacemos aquí? | ¿Por qué es importante? |\n",
    "|---|-------|--------------------|-------------------------|\n",
    "| 0 | **Imports & versión**<br>`from pathlib import Path`<br>`import pandas as pd` | Cargamos las librerías base y mostramos la versión de Pandas (`2.3.x`). | Garantiza que el entorno es el esperado; cualquier discrepancia de versión se detecta al instante. |\n",
    "| 1 | **Carga del CSV**<br>`pd.read_csv(...)` | Leemos `online_retail_II.csv`, definimos tipos (`dtype`) y parseamos fechas (`parse_dates`). | Traemos los datos brutos a memoria en un *DataFrame* coherente, listo para inspección. |\n",
    "| 2 | **Inspección rápida**<br>`df.info()` + `isna()` | Vemos tipos, nº de filas, nulos y estadísticas básicas. | Diagnóstico inicial: detectamos columnas problemáticas y validamos que la carga fue correcta. |\n",
    "| 3 | **Filtrado de devoluciones y precios inválidos**<br>`Quantity > 0`, `Price > 0` | Eliminamos devoluciones (`Quantity < 0`) y errores de precio. | Evitamos que operaciones negativas o precios cero distorsionen métricas de ventas y modelos CLV. |\n",
    "| 4 | **Limpieza y enriquecimiento**<br>`InvoiceDate → datetime` + `Sales = Quantity * Price` | Convertimos la fecha a formato nativo y creamos la columna `Sales` (ingreso por línea). | Tipos correctos = operaciones vectorizadas rápidas; `Sales` es la métrica monetaria clave para CLV. |\n",
    "| 5 | **Reordenar columnas (opcional)** | Ordenamos columnas para legibilidad (`Invoice`, `InvoiceDate`, …). | Facilita lectura humana y consistencia con otros artefactos (Parquet, dashboards). |\n",
    "| 6 | **Persistencia en Parquet**<br>`to_parquet(..., compression='snappy')` | Guardamos el *DataFrame* limpio en `data/processed/clv.parquet`. | Parquet es compacto y se lee 5-10× más rápido que CSV; `snappy` equilibra compresión y velocidad. |\n",
    "| 7 | **Validación de lectura**<br>`pd.read_parquet(...)` | Volvemos a cargar el Parquet y mostramos `info()` + `head()`. | Prueba de fuego: confirma que el archivo es legible y mantiene los tipos esperados. |\n",
    "| 8 | **Mini-cohortes (opcional)** | Agregamos por mes (`dt.to_period('M')`) y calculamos `n_customers` y `revenue`. | Primer insight de negocio: tamaño de cohorte y facturación mensual sirven para sanity-check y gráficos iniciales. |\n",
    "\n",
    "\n",
    "**Resultado de la celda 6:** `data/processed/clv.parquet` (~40-50 MB) es la base única de verdad para todos los modelos y visualizaciones posteriores."
   ]
  },
  {
   "cell_type": "markdown",
   "id": "b94817c7",
   "metadata": {},
   "source": [
    "## 0. Importación y versión"
   ]
  },
  {
   "cell_type": "code",
   "execution_count": 7,
   "id": "79eea44e",
   "metadata": {},
   "outputs": [
    {
     "name": "stdout",
     "output_type": "stream",
     "text": [
      "Pandas: 2.2.3\n"
     ]
    }
   ],
   "source": [
    "from pathlib import Path\n",
    "import pandas as pd\n",
    "\n",
    "print(\"Pandas:\", pd.__version__)"
   ]
  },
  {
   "cell_type": "markdown",
   "id": "bc4299fc",
   "metadata": {},
   "source": [
    "## 1. Carga del DataSet\n"
   ]
  },
  {
   "cell_type": "code",
   "execution_count": 12,
   "id": "f9c21c38",
   "metadata": {},
   "outputs": [
    {
     "data": {
      "text/plain": [
       "((1067371, 8),\n",
       "   Invoice StockCode                          Description  Quantity  \\\n",
       " 0  489434     85048  15CM CHRISTMAS GLASS BALL 20 LIGHTS        12   \n",
       " 1  489434    79323P                   PINK CHERRY LIGHTS        12   \n",
       " 2  489434    79323W                  WHITE CHERRY LIGHTS        12   \n",
       " 3  489434     22041         RECORD FRAME 7\" SINGLE SIZE         48   \n",
       " 4  489434     21232       STRAWBERRY CERAMIC TRINKET BOX        24   \n",
       " \n",
       "           InvoiceDate  Price  Customer ID         Country  \n",
       " 0 2009-12-01 07:45:00   6.95        13085  United Kingdom  \n",
       " 1 2009-12-01 07:45:00   6.75        13085  United Kingdom  \n",
       " 2 2009-12-01 07:45:00   6.75        13085  United Kingdom  \n",
       " 3 2009-12-01 07:45:00   2.10        13085  United Kingdom  \n",
       " 4 2009-12-01 07:45:00   1.25        13085  United Kingdom  )"
      ]
     },
     "execution_count": 12,
     "metadata": {},
     "output_type": "execute_result"
    }
   ],
   "source": [
    "DATA_FILE = Path(\"../data/raw/online_retail_II.csv\")   # ajusta nombre si difiere\n",
    "\n",
    "df = pd.read_csv(\n",
    "    DATA_FILE,\n",
    "    dtype={\n",
    "        \"Customer ID\": \"Int64\",    # enteros con soporte de nulos\n",
    "        \"Invoice\": \"string\"\n",
    "    },\n",
    "    parse_dates=[\"InvoiceDate\"],\n",
    "    encoding=\"ISO-8859-1\",         # evita problemas con acentos\n",
    ")\n",
    "\n",
    "df.shape, df.head()"
   ]
  },
  {
   "cell_type": "markdown",
   "id": "b4b47e43",
   "metadata": {},
   "source": [
    "## 2. Inspección rápida\n",
    "\n"
   ]
  },
  {
   "cell_type": "code",
   "execution_count": 13,
   "id": "5c9c246c",
   "metadata": {},
   "outputs": [
    {
     "name": "stdout",
     "output_type": "stream",
     "text": [
      "<class 'pandas.core.frame.DataFrame'>\n",
      "RangeIndex: 1067371 entries, 0 to 1067370\n",
      "Data columns (total 8 columns):\n",
      " #   Column       Non-Null Count    Dtype         \n",
      "---  ------       --------------    -----         \n",
      " 0   Invoice      1067371 non-null  string        \n",
      " 1   StockCode    1067371 non-null  object        \n",
      " 2   Description  1062989 non-null  object        \n",
      " 3   Quantity     1067371 non-null  int64         \n",
      " 4   InvoiceDate  1067371 non-null  datetime64[ns]\n",
      " 5   Price        1067371 non-null  float64       \n",
      " 6   Customer ID  824364 non-null   Int64         \n",
      " 7   Country      1067371 non-null  object        \n",
      "dtypes: Int64(1), datetime64[ns](1), float64(1), int64(1), object(3), string(1)\n",
      "memory usage: 66.2+ MB\n"
     ]
    },
    {
     "data": {
      "text/plain": [
       "Invoice             0\n",
       "StockCode           0\n",
       "Description      4382\n",
       "Quantity            0\n",
       "InvoiceDate         0\n",
       "Price               0\n",
       "Customer ID    243007\n",
       "Country             0\n",
       "dtype: int64"
      ]
     },
     "execution_count": 13,
     "metadata": {},
     "output_type": "execute_result"
    }
   ],
   "source": [
    "df.info()\n",
    "df.isna().sum()"
   ]
  },
  {
   "cell_type": "markdown",
   "id": "d5161fdd",
   "metadata": {},
   "source": [
    "## 3. Filtrar devoluciones"
   ]
  },
  {
   "cell_type": "code",
   "execution_count": 15,
   "id": "0bba983b",
   "metadata": {},
   "outputs": [],
   "source": [
    "df = df.loc[df[\"Quantity\"] > 0]\n",
    "df = df.loc[df[\"Price\"] > 0]\n",
    "df = df.dropna(subset=[\"Customer ID\"]).copy()"
   ]
  },
  {
   "cell_type": "markdown",
   "id": "8d159c45",
   "metadata": {},
   "source": [
    "## 4. Columna Sales"
   ]
  },
  {
   "cell_type": "code",
   "execution_count": 16,
   "id": "20b10979",
   "metadata": {},
   "outputs": [],
   "source": [
    "df[\"Sales\"] = df[\"Quantity\"] * df[\"Price\"]\n",
    "df.rename(columns=lambda c: c.strip(), inplace=True)"
   ]
  },
  {
   "cell_type": "markdown",
   "id": "59a225e8",
   "metadata": {},
   "source": [
    "## 5. Reordenar columnas"
   ]
  },
  {
   "cell_type": "code",
   "execution_count": 18,
   "id": "20243734",
   "metadata": {},
   "outputs": [
    {
     "data": {
      "text/html": [
       "<div>\n",
       "<style scoped>\n",
       "    .dataframe tbody tr th:only-of-type {\n",
       "        vertical-align: middle;\n",
       "    }\n",
       "\n",
       "    .dataframe tbody tr th {\n",
       "        vertical-align: top;\n",
       "    }\n",
       "\n",
       "    .dataframe thead th {\n",
       "        text-align: right;\n",
       "    }\n",
       "</style>\n",
       "<table border=\"1\" class=\"dataframe\">\n",
       "  <thead>\n",
       "    <tr style=\"text-align: right;\">\n",
       "      <th></th>\n",
       "      <th>Invoice</th>\n",
       "      <th>InvoiceDate</th>\n",
       "      <th>Customer ID</th>\n",
       "      <th>Country</th>\n",
       "      <th>StockCode</th>\n",
       "      <th>Description</th>\n",
       "      <th>Quantity</th>\n",
       "      <th>Price</th>\n",
       "      <th>Sales</th>\n",
       "    </tr>\n",
       "  </thead>\n",
       "  <tbody>\n",
       "    <tr>\n",
       "      <th>0</th>\n",
       "      <td>489434</td>\n",
       "      <td>2009-12-01 07:45:00</td>\n",
       "      <td>13085</td>\n",
       "      <td>United Kingdom</td>\n",
       "      <td>85048</td>\n",
       "      <td>15CM CHRISTMAS GLASS BALL 20 LIGHTS</td>\n",
       "      <td>12</td>\n",
       "      <td>6.95</td>\n",
       "      <td>83.4</td>\n",
       "    </tr>\n",
       "    <tr>\n",
       "      <th>1</th>\n",
       "      <td>489434</td>\n",
       "      <td>2009-12-01 07:45:00</td>\n",
       "      <td>13085</td>\n",
       "      <td>United Kingdom</td>\n",
       "      <td>79323P</td>\n",
       "      <td>PINK CHERRY LIGHTS</td>\n",
       "      <td>12</td>\n",
       "      <td>6.75</td>\n",
       "      <td>81.0</td>\n",
       "    </tr>\n",
       "    <tr>\n",
       "      <th>2</th>\n",
       "      <td>489434</td>\n",
       "      <td>2009-12-01 07:45:00</td>\n",
       "      <td>13085</td>\n",
       "      <td>United Kingdom</td>\n",
       "      <td>79323W</td>\n",
       "      <td>WHITE CHERRY LIGHTS</td>\n",
       "      <td>12</td>\n",
       "      <td>6.75</td>\n",
       "      <td>81.0</td>\n",
       "    </tr>\n",
       "    <tr>\n",
       "      <th>3</th>\n",
       "      <td>489434</td>\n",
       "      <td>2009-12-01 07:45:00</td>\n",
       "      <td>13085</td>\n",
       "      <td>United Kingdom</td>\n",
       "      <td>22041</td>\n",
       "      <td>RECORD FRAME 7\" SINGLE SIZE</td>\n",
       "      <td>48</td>\n",
       "      <td>2.10</td>\n",
       "      <td>100.8</td>\n",
       "    </tr>\n",
       "    <tr>\n",
       "      <th>4</th>\n",
       "      <td>489434</td>\n",
       "      <td>2009-12-01 07:45:00</td>\n",
       "      <td>13085</td>\n",
       "      <td>United Kingdom</td>\n",
       "      <td>21232</td>\n",
       "      <td>STRAWBERRY CERAMIC TRINKET BOX</td>\n",
       "      <td>24</td>\n",
       "      <td>1.25</td>\n",
       "      <td>30.0</td>\n",
       "    </tr>\n",
       "  </tbody>\n",
       "</table>\n",
       "</div>"
      ],
      "text/plain": [
       "  Invoice         InvoiceDate  Customer ID         Country StockCode  \\\n",
       "0  489434 2009-12-01 07:45:00        13085  United Kingdom     85048   \n",
       "1  489434 2009-12-01 07:45:00        13085  United Kingdom    79323P   \n",
       "2  489434 2009-12-01 07:45:00        13085  United Kingdom    79323W   \n",
       "3  489434 2009-12-01 07:45:00        13085  United Kingdom     22041   \n",
       "4  489434 2009-12-01 07:45:00        13085  United Kingdom     21232   \n",
       "\n",
       "                           Description  Quantity  Price  Sales  \n",
       "0  15CM CHRISTMAS GLASS BALL 20 LIGHTS        12   6.95   83.4  \n",
       "1                   PINK CHERRY LIGHTS        12   6.75   81.0  \n",
       "2                  WHITE CHERRY LIGHTS        12   6.75   81.0  \n",
       "3         RECORD FRAME 7\" SINGLE SIZE         48   2.10  100.8  \n",
       "4       STRAWBERRY CERAMIC TRINKET BOX        24   1.25   30.0  "
      ]
     },
     "execution_count": 18,
     "metadata": {},
     "output_type": "execute_result"
    }
   ],
   "source": [
    "cols = [\"Invoice\", \"InvoiceDate\", \"Customer ID\", \"Country\",\n",
    "        \"StockCode\", \"Description\", \"Quantity\", \"Price\", \"Sales\"]\n",
    "df = df[cols]\n",
    "df.head()"
   ]
  },
  {
   "cell_type": "markdown",
   "id": "d8d4a201",
   "metadata": {},
   "source": [
    "## 6. Persistencia"
   ]
  },
  {
   "cell_type": "code",
   "execution_count": 19,
   "id": "e5638b9f",
   "metadata": {},
   "outputs": [
    {
     "name": "stdout",
     "output_type": "stream",
     "text": [
      "File written: ../data/processed/clv.parquet → 10.08 MB\n"
     ]
    }
   ],
   "source": [
    "OUTPUT_DIR = Path(\"../data/processed\")\n",
    "OUTPUT_DIR.mkdir(parents=True, exist_ok=True)\n",
    "\n",
    "OUTPUT_FILE = OUTPUT_DIR / \"clv.parquet\"\n",
    "df.to_parquet(OUTPUT_FILE, compression=\"snappy\")\n",
    "\n",
    "print(\"File written:\", OUTPUT_FILE, \"→\",\n",
    "      round(OUTPUT_FILE.stat().st_size / 1e6, 2), \"MB\")"
   ]
  },
  {
   "cell_type": "markdown",
   "id": "c231a46c",
   "metadata": {},
   "source": [
    "## 7. Validación de lectura"
   ]
  },
  {
   "cell_type": "code",
   "execution_count": 20,
   "id": "db2df111",
   "metadata": {},
   "outputs": [
    {
     "name": "stdout",
     "output_type": "stream",
     "text": [
      "<class 'pandas.core.frame.DataFrame'>\n",
      "Index: 805549 entries, 0 to 1067370\n",
      "Data columns (total 9 columns):\n",
      " #   Column       Non-Null Count   Dtype         \n",
      "---  ------       --------------   -----         \n",
      " 0   Invoice      805549 non-null  string        \n",
      " 1   InvoiceDate  805549 non-null  datetime64[ns]\n",
      " 2   Customer ID  805549 non-null  Int64         \n",
      " 3   Country      805549 non-null  object        \n",
      " 4   StockCode    805549 non-null  object        \n",
      " 5   Description  805549 non-null  object        \n",
      " 6   Quantity     805549 non-null  int64         \n",
      " 7   Price        805549 non-null  float64       \n",
      " 8   Sales        805549 non-null  float64       \n",
      "dtypes: Int64(1), datetime64[ns](1), float64(2), int64(1), object(3), string(1)\n",
      "memory usage: 62.2+ MB\n"
     ]
    },
    {
     "data": {
      "text/html": [
       "<div>\n",
       "<style scoped>\n",
       "    .dataframe tbody tr th:only-of-type {\n",
       "        vertical-align: middle;\n",
       "    }\n",
       "\n",
       "    .dataframe tbody tr th {\n",
       "        vertical-align: top;\n",
       "    }\n",
       "\n",
       "    .dataframe thead th {\n",
       "        text-align: right;\n",
       "    }\n",
       "</style>\n",
       "<table border=\"1\" class=\"dataframe\">\n",
       "  <thead>\n",
       "    <tr style=\"text-align: right;\">\n",
       "      <th></th>\n",
       "      <th>Invoice</th>\n",
       "      <th>InvoiceDate</th>\n",
       "      <th>Customer ID</th>\n",
       "      <th>Country</th>\n",
       "      <th>StockCode</th>\n",
       "      <th>Description</th>\n",
       "      <th>Quantity</th>\n",
       "      <th>Price</th>\n",
       "      <th>Sales</th>\n",
       "    </tr>\n",
       "  </thead>\n",
       "  <tbody>\n",
       "    <tr>\n",
       "      <th>0</th>\n",
       "      <td>489434</td>\n",
       "      <td>2009-12-01 07:45:00</td>\n",
       "      <td>13085</td>\n",
       "      <td>United Kingdom</td>\n",
       "      <td>85048</td>\n",
       "      <td>15CM CHRISTMAS GLASS BALL 20 LIGHTS</td>\n",
       "      <td>12</td>\n",
       "      <td>6.95</td>\n",
       "      <td>83.4</td>\n",
       "    </tr>\n",
       "    <tr>\n",
       "      <th>1</th>\n",
       "      <td>489434</td>\n",
       "      <td>2009-12-01 07:45:00</td>\n",
       "      <td>13085</td>\n",
       "      <td>United Kingdom</td>\n",
       "      <td>79323P</td>\n",
       "      <td>PINK CHERRY LIGHTS</td>\n",
       "      <td>12</td>\n",
       "      <td>6.75</td>\n",
       "      <td>81.0</td>\n",
       "    </tr>\n",
       "    <tr>\n",
       "      <th>2</th>\n",
       "      <td>489434</td>\n",
       "      <td>2009-12-01 07:45:00</td>\n",
       "      <td>13085</td>\n",
       "      <td>United Kingdom</td>\n",
       "      <td>79323W</td>\n",
       "      <td>WHITE CHERRY LIGHTS</td>\n",
       "      <td>12</td>\n",
       "      <td>6.75</td>\n",
       "      <td>81.0</td>\n",
       "    </tr>\n",
       "    <tr>\n",
       "      <th>3</th>\n",
       "      <td>489434</td>\n",
       "      <td>2009-12-01 07:45:00</td>\n",
       "      <td>13085</td>\n",
       "      <td>United Kingdom</td>\n",
       "      <td>22041</td>\n",
       "      <td>RECORD FRAME 7\" SINGLE SIZE</td>\n",
       "      <td>48</td>\n",
       "      <td>2.10</td>\n",
       "      <td>100.8</td>\n",
       "    </tr>\n",
       "    <tr>\n",
       "      <th>4</th>\n",
       "      <td>489434</td>\n",
       "      <td>2009-12-01 07:45:00</td>\n",
       "      <td>13085</td>\n",
       "      <td>United Kingdom</td>\n",
       "      <td>21232</td>\n",
       "      <td>STRAWBERRY CERAMIC TRINKET BOX</td>\n",
       "      <td>24</td>\n",
       "      <td>1.25</td>\n",
       "      <td>30.0</td>\n",
       "    </tr>\n",
       "  </tbody>\n",
       "</table>\n",
       "</div>"
      ],
      "text/plain": [
       "  Invoice         InvoiceDate  Customer ID         Country StockCode  \\\n",
       "0  489434 2009-12-01 07:45:00        13085  United Kingdom     85048   \n",
       "1  489434 2009-12-01 07:45:00        13085  United Kingdom    79323P   \n",
       "2  489434 2009-12-01 07:45:00        13085  United Kingdom    79323W   \n",
       "3  489434 2009-12-01 07:45:00        13085  United Kingdom     22041   \n",
       "4  489434 2009-12-01 07:45:00        13085  United Kingdom     21232   \n",
       "\n",
       "                           Description  Quantity  Price  Sales  \n",
       "0  15CM CHRISTMAS GLASS BALL 20 LIGHTS        12   6.95   83.4  \n",
       "1                   PINK CHERRY LIGHTS        12   6.75   81.0  \n",
       "2                  WHITE CHERRY LIGHTS        12   6.75   81.0  \n",
       "3         RECORD FRAME 7\" SINGLE SIZE         48   2.10  100.8  \n",
       "4       STRAWBERRY CERAMIC TRINKET BOX        24   1.25   30.0  "
      ]
     },
     "execution_count": 20,
     "metadata": {},
     "output_type": "execute_result"
    }
   ],
   "source": [
    "clean = pd.read_parquet(OUTPUT_FILE)\n",
    "clean.info()\n",
    "clean.head()"
   ]
  },
  {
   "cell_type": "markdown",
   "id": "bb3835f6",
   "metadata": {},
   "source": [
    "## 8. Mini-cohortes\n",
    "\n",
    "### ¿Qué son los cohortes y por qué importan?\n",
    "\n",
    "Un **cohorte** es un grupo de clientes que comparte una misma “fecha de nacimiento” según un criterio definido—por ejemplo, el mes de **su primera compra**.  \n",
    "Al separar los usuarios por cohortes podemos analizar cómo evoluciona cada “generación” sin mezclarla con las demás.\n",
    "\n",
    "| Tipo de cohorte | Criterio de agrupación | Ejemplo |\n",
    "|-----------------|------------------------|---------|\n",
    "| **Adquisición** | Mes/Semana/Día de la primera compra | Clientes captados en **Ene-2020** |\n",
    "| Activación | Fecha de primera acción clave (instalar app, registrarse) | Usuarios que activaron el plan **Q1-2024** |\n",
    "| Campaña | Fuente o canal de entrada | Leads originados por **Google Ads** |\n",
    "\n",
    "### ¿Por qué lo necesitamos para CLV?\n",
    "\n",
    "1. **Medir retención** – ¿Sigue comprando el 40 % de la cohorte después de 6 meses?  \n",
    "2. **Detectar anomalías** – Un pico o un desplome en una cohorte concreta revela un error de carga o un cambio de mercado.  \n",
    "3. **Variables del modelo** – La “edad del cliente” (tiempo desde su cohorte) alimenta modelos de supervivencia como **Pareto/NBD**.  \n",
    "4. **Segmentación de negocio** – Marketing compara la rentabilidad de campañas o temporadas sin mezclar generaciones de clientes.\n"
   ]
  },
  {
   "cell_type": "code",
   "execution_count": 21,
   "id": "746d3ccb",
   "metadata": {},
   "outputs": [
    {
     "data": {
      "text/html": [
       "<div>\n",
       "<style scoped>\n",
       "    .dataframe tbody tr th:only-of-type {\n",
       "        vertical-align: middle;\n",
       "    }\n",
       "\n",
       "    .dataframe tbody tr th {\n",
       "        vertical-align: top;\n",
       "    }\n",
       "\n",
       "    .dataframe thead th {\n",
       "        text-align: right;\n",
       "    }\n",
       "</style>\n",
       "<table border=\"1\" class=\"dataframe\">\n",
       "  <thead>\n",
       "    <tr style=\"text-align: right;\">\n",
       "      <th></th>\n",
       "      <th>InvoiceDate</th>\n",
       "      <th>n_customers</th>\n",
       "      <th>revenue</th>\n",
       "    </tr>\n",
       "  </thead>\n",
       "  <tbody>\n",
       "    <tr>\n",
       "      <th>0</th>\n",
       "      <td>2009-12</td>\n",
       "      <td>955</td>\n",
       "      <td>686654.160</td>\n",
       "    </tr>\n",
       "    <tr>\n",
       "      <th>1</th>\n",
       "      <td>2010-01</td>\n",
       "      <td>720</td>\n",
       "      <td>557319.062</td>\n",
       "    </tr>\n",
       "    <tr>\n",
       "      <th>2</th>\n",
       "      <td>2010-02</td>\n",
       "      <td>772</td>\n",
       "      <td>506371.066</td>\n",
       "    </tr>\n",
       "    <tr>\n",
       "      <th>3</th>\n",
       "      <td>2010-03</td>\n",
       "      <td>1057</td>\n",
       "      <td>699608.991</td>\n",
       "    </tr>\n",
       "    <tr>\n",
       "      <th>4</th>\n",
       "      <td>2010-04</td>\n",
       "      <td>942</td>\n",
       "      <td>594609.192</td>\n",
       "    </tr>\n",
       "  </tbody>\n",
       "</table>\n",
       "</div>"
      ],
      "text/plain": [
       "  InvoiceDate  n_customers     revenue\n",
       "0     2009-12          955  686654.160\n",
       "1     2010-01          720  557319.062\n",
       "2     2010-02          772  506371.066\n",
       "3     2010-03         1057  699608.991\n",
       "4     2010-04          942  594609.192"
      ]
     },
     "execution_count": 21,
     "metadata": {},
     "output_type": "execute_result"
    }
   ],
   "source": [
    "cohort = (\n",
    "    clean\n",
    "    .groupby(clean[\"InvoiceDate\"].dt.to_period(\"M\"))\n",
    "    .agg(n_customers=(\"Customer ID\", \"nunique\"),\n",
    "         revenue=(\"Sales\", \"sum\"))\n",
    "    .reset_index()\n",
    ")\n",
    "cohort.head()"
   ]
  }
 ],
 "metadata": {
  "kernelspec": {
   "display_name": "base",
   "language": "python",
   "name": "python3"
  },
  "language_info": {
   "codemirror_mode": {
    "name": "ipython",
    "version": 3
   },
   "file_extension": ".py",
   "mimetype": "text/x-python",
   "name": "python",
   "nbconvert_exporter": "python",
   "pygments_lexer": "ipython3",
   "version": "3.11.8"
  }
 },
 "nbformat": 4,
 "nbformat_minor": 5
}
